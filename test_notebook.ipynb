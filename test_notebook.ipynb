{
 "cells": [
  {
   "cell_type": "code",
   "execution_count": 1,
   "metadata": {},
   "outputs": [],
   "source": [
    "from args import Args\n",
    "import numpy as np"
   ]
  },
  {
   "cell_type": "code",
   "execution_count": 2,
   "metadata": {},
   "outputs": [],
   "source": [
    "# command_line = [\n",
    "#     \"--target_file\", \"\",\n",
    "#     \"--preds_file\", \"\",\n",
    "#     \"--ensemble_size\", \"5\",\n",
    "#     \"--save_dir\", \"\",\n",
    "# ]\n",
    "\n",
    "# args = Args().parse_args(command_line)"
   ]
  },
  {
   "cell_type": "code",
   "execution_count": 3,
   "metadata": {},
   "outputs": [],
   "source": [
    "# args.as_dict()"
   ]
  },
  {
   "cell_type": "code",
   "execution_count": 4,
   "metadata": {},
   "outputs": [],
   "source": [
    "a = [1,2,1]\n",
    "a = np.reshape(a, [3,1])\n",
    "b = [1,3,2]\n",
    "b = np.reshape(b, [1,3])"
   ]
  },
  {
   "cell_type": "code",
   "execution_count": 5,
   "metadata": {},
   "outputs": [
    {
     "name": "stdout",
     "output_type": "stream",
     "text": [
      "[[1]\n",
      " [6]\n",
      " [2]]\n"
     ]
    }
   ],
   "source": [
    "c = a * b\n",
    "print(c)"
   ]
  }
 ],
 "metadata": {
  "kernelspec": {
   "display_name": "Python 3.10.5 ('ensemble')",
   "language": "python",
   "name": "python3"
  },
  "language_info": {
   "codemirror_mode": {
    "name": "ipython",
    "version": 3
   },
   "file_extension": ".py",
   "mimetype": "text/x-python",
   "name": "python",
   "nbconvert_exporter": "python",
   "pygments_lexer": "ipython3",
   "version": "3.10.5"
  },
  "orig_nbformat": 4,
  "vscode": {
   "interpreter": {
    "hash": "ea027d1f3076656af6d7e01a9d7a9813929ed73d5f1186839e546ac2a5ae0411"
   }
  }
 },
 "nbformat": 4,
 "nbformat_minor": 2
}
