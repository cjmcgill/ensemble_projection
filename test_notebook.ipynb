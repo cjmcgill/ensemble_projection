{
 "cells": [
  {
   "cell_type": "code",
   "execution_count": 1,
   "metadata": {},
   "outputs": [],
   "source": [
    "from args import Args"
   ]
  },
  {
   "cell_type": "code",
   "execution_count": 2,
   "metadata": {},
   "outputs": [],
   "source": [
    "command_line = [\n",
    "    \"--target_file\", \"\",\n",
    "    \"--preds_file\", \"\",\n",
    "    \"--ensemble_size\", \"5\",\n",
    "    \"--save_dir\", \"\",\n",
    "]\n",
    "\n",
    "args = Args().parse_args(command_line)"
   ]
  },
  {
   "cell_type": "code",
   "execution_count": 5,
   "metadata": {},
   "outputs": [
    {
     "data": {
      "text/plain": [
       "{'preds_file': '',\n",
       " 'ensemble_size': 5,\n",
       " 'truncate_data_length': None,\n",
       " 'optimization_iterations': 10,\n",
       " 'save_dir': '',\n",
       " 'bessel_correction_needed': True,\n",
       " 'bw_multiplier': 1,\n",
       " 'integration_mesh_size': 1025,\n",
       " 'target_file': ''}"
      ]
     },
     "execution_count": 5,
     "metadata": {},
     "output_type": "execute_result"
    }
   ],
   "source": [
    "args.as_dict()"
   ]
  }
 ],
 "metadata": {
  "kernelspec": {
   "display_name": "Python 3.10.5 ('ensemble')",
   "language": "python",
   "name": "python3"
  },
  "language_info": {
   "codemirror_mode": {
    "name": "ipython",
    "version": 3
   },
   "file_extension": ".py",
   "mimetype": "text/x-python",
   "name": "python",
   "nbconvert_exporter": "python",
   "pygments_lexer": "ipython3",
   "version": "3.10.5"
  },
  "orig_nbformat": 4,
  "vscode": {
   "interpreter": {
    "hash": "ea027d1f3076656af6d7e01a9d7a9813929ed73d5f1186839e546ac2a5ae0411"
   }
  }
 },
 "nbformat": 4,
 "nbformat_minor": 2
}
